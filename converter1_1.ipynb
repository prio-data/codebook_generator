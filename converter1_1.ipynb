{
 "cells": [
  {
   "cell_type": "code",
   "execution_count": null,
   "id": "310332fc",
   "metadata": {},
   "outputs": [],
   "source": [
    "import pandas as pd\n",
    "import json\n",
    "from bs4 import BeautifulSoup\n",
    "\n",
    "import os\n",
    "home = os.path.expanduser(\"~\")\n",
    "\n",
    "print('OS path is set to:', home)"
   ]
  },
  {
   "cell_type": "code",
   "execution_count": null,
   "id": "72dfde9f",
   "metadata": {},
   "outputs": [],
   "source": [
    "import pandas as pd\n",
    "\n",
    "with open(\"test2.md\", \"r\") as f:\n",
    "    lines = f.readlines()\n",
    "\n",
    "data = {}\n",
    "\n",
    "current_column = None\n",
    "current_subcolumn = None\n",
    "\n",
    "for line in lines:\n",
    "    if line.startswith(\"# \"):\n",
    "        current_column = line.strip()[2:]\n",
    "        current_subcolumn = None\n",
    "        data[current_column] = {}\n",
    "    elif line.startswith(\"## \"):\n",
    "        current_subcolumn = line.strip()[3:]\n",
    "        data[current_column][current_subcolumn] = []\n",
    "    elif current_column is not None and current_subcolumn is not None:\n",
    "        data[current_column][current_subcolumn].append(line.strip())\n",
    "\n",
    "df_data = []\n",
    "for column_label, column_data in data.items():\n",
    "    for subcolumn_label, subcolumn_data in column_data.items():\n",
    "        df_data.append((column_label, subcolumn_label, \"\\n\".join(subcolumn_data)))\n",
    "\n",
    "df = pd.DataFrame(df_data, columns=[\"Column\", \"Subcolumn\", \"Value\"])\n",
    "\n",
    "# Pivot the table\n",
    "df_pivot = df.pivot(index='Column', columns='Subcolumn', values='Value')\n",
    "\n"
   ]
  },
  {
   "cell_type": "code",
   "execution_count": null,
   "id": "d4790c14",
   "metadata": {},
   "outputs": [],
   "source": [
    "df_pivot"
   ]
  },
  {
   "cell_type": "code",
   "execution_count": null,
   "id": "9ab5b447",
   "metadata": {},
   "outputs": [],
   "source": [
    "df2 = df_pivot.copy()"
   ]
  },
  {
   "cell_type": "code",
   "execution_count": null,
   "id": "149202df",
   "metadata": {},
   "outputs": [],
   "source": [
    "df2 = df_pivot.reset_index().set_index('Variable ID')\n"
   ]
  },
  {
   "cell_type": "code",
   "execution_count": null,
   "id": "3ba179ad",
   "metadata": {
    "scrolled": false
   },
   "outputs": [],
   "source": [
    "df2"
   ]
  },
  {
   "cell_type": "code",
   "execution_count": null,
   "id": "bf9150c3",
   "metadata": {},
   "outputs": [],
   "source": [
    "df2.to_json('test2.json', orient='records')"
   ]
  }
 ],
 "metadata": {
  "kernelspec": {
   "display_name": "Python 3 (ipykernel)",
   "language": "python",
   "name": "python3"
  },
  "language_info": {
   "codemirror_mode": {
    "name": "ipython",
    "version": 3
   },
   "file_extension": ".py",
   "mimetype": "text/x-python",
   "name": "python",
   "nbconvert_exporter": "python",
   "pygments_lexer": "ipython3",
   "version": "3.9.13"
  }
 },
 "nbformat": 4,
 "nbformat_minor": 5
}
