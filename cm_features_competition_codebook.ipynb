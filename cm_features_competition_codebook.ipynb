{
 "cells": [
  {
   "cell_type": "code",
   "execution_count": null,
   "id": "a9fe6aa2",
   "metadata": {},
   "outputs": [],
   "source": [
    "import pandas as pd \n",
    "import re\n",
    "import pandas as pd\n",
    "import json\n",
    "import markdown\n",
    "import io\n",
    "\n",
    "import os\n",
    "home = os.path.expanduser(\"~\")\n",
    "\n",
    "print('OS path is set to:', home)"
   ]
  },
  {
   "cell_type": "code",
   "execution_count": null,
   "id": "12cc3b14",
   "metadata": {},
   "outputs": [],
   "source": [
    "desktop = home+'/Desktop' # (Toggle on to save to desktop)"
   ]
  },
  {
   "cell_type": "code",
   "execution_count": null,
   "id": "ff4b5f90",
   "metadata": {},
   "outputs": [],
   "source": [
    "#If you want to create a codebook based on a subset of data from a file, read that file as a dataframe from your working directory\n",
    "df = pd.read_parquet('cm_features_to_oct2019.parquet')"
   ]
  },
  {
   "cell_type": "code",
   "execution_count": null,
   "id": "9e77f038",
   "metadata": {},
   "outputs": [],
   "source": [
    "#Change to the name you want to use to describe created codebook \n",
    "codebook = 'cm_features_competition'"
   ]
  },
  {
   "cell_type": "code",
   "execution_count": null,
   "id": "7f94f2ec",
   "metadata": {},
   "outputs": [],
   "source": [
    "#get all the column names from your data\n",
    "list(df.columns)"
   ]
  },
  {
   "cell_type": "code",
   "execution_count": null,
   "id": "725a1a99",
   "metadata": {},
   "outputs": [],
   "source": [
    "#create empty df\n",
    "df_new = pd.DataFrame()\n",
    "#get all variable names as rows\n",
    "df_new['variable_name']= df.columns.values.tolist() \n",
    "df_new"
   ]
  },
  {
   "cell_type": "code",
   "execution_count": null,
   "id": "c8d08247",
   "metadata": {},
   "outputs": [],
   "source": [
    "def give_me_transforms(df_new):\n",
    "    headers = []\n",
    "    if \"splag\" in df_new: headers.append('spatial lag')\n",
    "    if \"decay\" in df_new: headers.append('decay function')\n",
    "    if \"t48\" in df_new: headers.append('temporal lag of 48 months')\n",
    "    if \"tlag\" in df_new: headers.append('temporal lag of X months')\n",
    "    if \"tsum_24\" in df_new: headers.append('24-month moving sum')\n",
    "    return headers"
   ]
  },
  {
   "cell_type": "code",
   "execution_count": null,
   "id": "d19e7cc6",
   "metadata": {},
   "outputs": [],
   "source": [
    "# Generate the transform_description column based on the variable_name column\n",
    "df_new['transform_description'] = df_new['variable_name'].apply(give_me_transforms)\n",
    "\n",
    "# Combine the list of header strings for each column into a single string\n",
    "df_new['transform_description'] = df_new['transform_description'].apply(lambda x: \", \".join(x))\n",
    "\n",
    "# Print the updated DataFrame\n",
    "print(df_new)"
   ]
  },
  {
   "cell_type": "code",
   "execution_count": null,
   "id": "5776c99b",
   "metadata": {},
   "outputs": [],
   "source": [
    "#df_new['transform_description'] = df_new['variable_name'].apply(give_me_transforms)\n",
    "#print(df_new)"
   ]
  },
  {
   "cell_type": "code",
   "execution_count": null,
   "id": "83aaa943",
   "metadata": {},
   "outputs": [],
   "source": [
    "#match the variable names with the descriptions\n",
    "## you can change it to match the descriptions, so \"if 'wdi' in df_name: header = 'world development index'\"\n",
    "## you can repeat it for as many columns you need \n",
    "header= ''\n",
    "def give_me_description(df_new):\n",
    "    global header\n",
    "    if \"acled\" in df_new: header = 'Armed Conflict Location Event Dataset'\n",
    "    if \"wdi\" in df_new: header = \"World Development Index\"\n",
    "    if \"vdem\" in df_new: header = \"Varieties of Democracy (vdem)\"\n",
    "    if \"agr_withdrawal\" in df_new: header = \"AQUASTAT Glossary, FAO, 2019\"  \n",
    "    if \"dam_cap_pcap\" in df_new: header = \"AQUASTAT Glossary, FAO, 2019\" \n",
    "    if \"groundwater_export\" in df_new: header = \"AQUASTAT Glossary, FAO, 2019\"\n",
    "    if \"fresh_withdrawal\" in df_new: header = \"AQUASTAT Glossary, FAO, 2019\"\n",
    "    if \"ind_efficiency\" in df_new: header = \"FAO. [2022]. AQUASTAT Core Database\" \n",
    "    if \"irr_agr_efficiency\" in df_new: header = \"FAO. [2022]. AQUASTAT Core Database\" \n",
    "    if \"services_efficiency\" in df_new: header = \"FAO. [2022]. AQUASTAT Core Database\" \n",
    "    if \"general_efficiency\" in df_new: header = \"FAO. [2022]. AQUASTAT Core Database\"\n",
    "    if \"water_stress\" in df_new: header = \"FAO. [2022]. AQUASTAT Core Database\"\n",
    "    if \"renewable_internal_pcap\" in df_new: header = \"FAO. [2022]. AQUASTAT Core Database\"\n",
    "    if \"renewable_pcap\" in df_new: header = \"FAO. [2022]. AQUASTAT Core Database\"\n",
    "    if \"ged\" in df_new: header = \"UCDP Georeferenced Events Dataset (UCDP GED)\"\n",
    "    return header"
   ]
  },
  {
   "cell_type": "code",
   "execution_count": null,
   "id": "c86a9f37",
   "metadata": {},
   "outputs": [],
   "source": [
    "df_new['source_description'] = df_new['variable_name'].apply(give_me_description)\n",
    "print(df_new)"
   ]
  },
  {
   "cell_type": "code",
   "execution_count": null,
   "id": "e01fcfc1",
   "metadata": {},
   "outputs": [],
   "source": [
    "#match the variable names with the descriptions\n",
    "## you can change it to match the descriptions, so \"if 'wdi' in df_name: header = 'world development index'\"\n",
    "## you can repeat it for as many columns you need \n",
    "header= ''\n",
    "def give_me_shortdescription(df_new):\n",
    "    global header\n",
    "    if \"ged_sb\" in df_new: header = 'The best (most likely) estimate of the total number of battle-related deaths (BRDs) from state-based conflict as per the UCDP definition.'\n",
    "    if \"ged_ns\" in df_new: header = \"The best (most likely) estimate of the total number of fatalities from non-state conflict as per the UCDP definition.\"\n",
    "    if \"ged_os\" in df_new: header = \"The best (most likely) estimate of the total number of fatalities from one-sided conflict as per the UCDP definition.\"\n",
    "    if \"acled_sb\" in df_new: header = \"State based conflict events count from the event types battle and remote violence, where one actor is a military force and non of the involved actors are civilians.\"\n",
    "    if \"acled_sb_count\" in df_new: header = \"State based conflict events count from the event types battle and remote violence, where one actor is a military force and non of the involved actors are civilians.\"\n",
    "    if \"acled_os\" in df_new: header = \"Fatality count from the event types battle and remote violence, where one actor is civilians.\"\n",
    "    if \"wdi_sp_pop_totl\" in df_new: header = \"Population in total.\"\n",
    "    if \"wdi_ag_lnd_frst\" in df_new: header = \"Forest area (sq. km).\"\n",
    "    if \"wdi_dt_oda_odat_pc_zs\" in df_new: header = \"Net official development assistance ODA received per capita in current US dollars.\"\n",
    "    if \"wdi_ms_mil_xpnd_gd_zs\" in df_new: header = \"Military expenditure as percentage of GDP.\"   \n",
    "    if \"wdi_ms_mil_xpnd_zs\" in df_new: header = \"Military expenditure as percentage of general government expenditure.\" \n",
    "    if \"wdi_nv_agr_totl_kd\" in df_new: header = \"Value added from agriculture in constant 2015 U.S. dollars.\"\n",
    "    if \"wdi_nv_agr_totl_kn\" in df_new: header = \"Value added from agriculture in constant local currency.\" \n",
    "    if \"wdi_ny_gdp_pcap_kd\" in df_new: header = \"GDP per capita in constant 2015 US dollars\" \n",
    "    if \"wdi_sp_dyn_le00_in\" in df_new: header = \"Life expectancy at birth, total years\" \n",
    "    if \"wdi_se_enr_prim_fm_zs\" in df_new: header = \"Gender parity index for gross enrollment ratio in primary education is the ratio of girls to boys enrolled at primary level in public and private schools.\" \n",
    "    if \"wdi_se_enr_prsc_fm_zs\" in df_new: header = \"Gender parity index for gross enrollment ratio in primary and secondary education is the ratio of girls to boys enrolled at primary and secondary levels in public and private schools.\" \n",
    "    if \"wdi_se_prm_nenr\" in df_new: header = \"School enrollment, primary percentage net\" \n",
    "    if \"wdi_sh_sta_maln_zs\" in df_new: header = \"Prevalence of underweight amongst children under 5 in percentage.\"\n",
    "    if \"wdi_sh_sta_stnt_zs\" in df_new: header = \"Prevalence of stunting amongst children under 5 in percentage.\"\n",
    "    if \"wdi_sl_tlf_totl_fe_zs\" in df_new: header = \"Female labor force as a percentage of the total.\"\n",
    "    if \"wdi_sm_pop_refg_or\" in df_new: header = \"Refugee population by country or territory of origin.\"\n",
    "    if \"wdi_sm_pop_netm\" in df_new: header = \"Net total of migrants during a five-year estimate.\"\n",
    "    if \"wdi_sm_pop_totl_zs\" in df_new: header = \"International migrant stock (number of people born in a country other than that in which they live) in percentage of population.\"\n",
    "    if \"wdi_sp_dyn_imrt_in\" in df_new: header = \"Infant mortality rate per 1,000 live births.\"\n",
    "    if \"wdi_sh_dyn_mort_fe\" in df_new: header = \"Female under-five mortality rate per 1,000 live birth.\"\n",
    "    if \"wdi_sp_pop_14_fe_zs\" in df_new: header = \"Female population between the ages 0 to 14 as a percentage of the total female population\"\n",
    "    if \"wdi_sp_pop_1564_fe_zs\" in df_new: header = \"Female population between the ages 15 to 64 as a percentage of the total female population.\"\n",
    "    if \"wdi_sp_pop_65up_fe_zs\" in df_new: header = \"Female population 65 years of age or older as a percentage of the total female population.\"\n",
    "    if \"wdi_sp_pop_grow\" in df_new: header = \"Annual population growth in percentage.\"\n",
    "    if \"wdi_sp_urb_totl_in_zs\" in df_new: header = \"Percentage of population living in urban population areas.\"\n",
    "    if \"vdem_v2x_delibdem\" in df_new: header = \"Deliberative democracy index on an interval from low to high (0-1).\"\n",
    "    if \"vdem_v2x_egaldem\" in df_new: header = \"Egalitarian democracy index on an interval from low to high (0-1).\"\n",
    "    if \"vdem_v2x_libdem\" in df_new: header = \"Liberal democracy index on an interval from low to high (0-1).\"\n",
    "    if \"vdem_v2x_partip\" in df_new: header = \"Participatory component index on an interval from low to high (0-1).\"\n",
    "    if \"vdem_v2x_partipdem\" in df_new: header = \"Participatory democracy index on an interval from low to high (0-1).\"\n",
    "    if \"vdem_v2x_accountability\" in df_new: header = \"Accountability index on a scale using a standard normal cumulative distribution function. It is thus scaled low to high (0-1).\"\n",
    "    if \"vdem_v2x_civlib\" in df_new: header = \"Civil liberties index on an interval from low to high (0-1).\"\n",
    "    if \"vdem_v2x_clphy\" in df_new: header = \"Physical violence index on an interval from low to high (0-1).\"\n",
    "    if \"vdem_v2x_cspart\" in df_new: header = \"Civil society participation index on an interval from low to high (0-1).\"\n",
    "    if \"vdem_v2x_divparctrl\" in df_new: header = \"Divided party control index on an interval from low to high.\"\n",
    "    if \"vdem_v2x_edcomp_thick\" in df_new: header = \"Electoral component index on an interval from low to high (0-1).\"\n",
    "    if \"vdem_v2x_egal\" in df_new: header = \"Egalitarian component index on an interval from low to high (0-1).\"\n",
    "    if \"vdem_v2x_execorr\" in df_new: header = \"Executive corruption index on an interval from low to high (0-1).\"\n",
    "    if \"vdem_v2x_frassoc_thick\" in df_new: header = \"Freedom of association thick index on an interval from low to high (0-1).\"\n",
    "    if \"vdem_v2x_gencs\" in df_new: header = \"Women civil society participation index on an interval from low to high (0-1).\"\n",
    "    if \"vdem_v2x_gender\" in df_new: header = \"Women political empowerment index on an interval from low to high (0-1).\"\n",
    "    if \"vdem_v2x_genpp\" in df_new: header = \"Women political participation index on an interval from low to high (0-1).\"\n",
    "    if \"vdem_v2x_horacc\" in df_new: header = \"Horizontal accountability index on an interval from low to high (0-1).\"\n",
    "    if \"vdem_v2x_neopat\" in df_new: header = \"Neopatrimonial Rule Index on an interval from low to high (0-1).\"\n",
    "    if \"vdem_v2x_pubcorr\" in df_new: header = \"Public sector corruption index on an interval from low to high (0-1).\"\n",
    "    if \"vdem_v2x_rule\" in df_new: header = \"Rule of law index on an interval from low to high (0-1).\" \n",
    "    if \"vdem_v2x_veracc\" in df_new: header = \"Vertical accountability index on an interval from low to high (0-1).\"\n",
    "    if \"vdem_v2x_ex_military\" in df_new: header = \"Military dimension index on an interval from low to high (0-1).\"\n",
    "    if \"vdem_v2x_ex_party\" in df_new: header = \"Ruling party dimension index on an interval from low to high (0-1).\"\n",
    "    if \"vdem_v2x_freexp\" in df_new: header = \"Freedom of expression index on an interval from low to high (0-1).\"\n",
    "    if \"vdem_v2xcl_acjst\" in df_new: header = \"Access to justice on an interval from low to high (0-1).\"\n",
    "    if \"vdem_v2xcl_dmove\" in df_new: header = \"Freedom of domestic movement on an interval from low to high (0-1).\"\n",
    "    if \"vdem_v2xcl_prpty\" in df_new: header = \"Property rights index on an interval from low to high (0-1).\"\n",
    "    if \"vdem_v2xcl_rol\" in df_new: header = \"Equality before the law and individual liberty index on an interval from low to high (0-1).\"\n",
    "    if \"vdem_v2xcl_slave\" in df_new: header = \"Freedom from forced labor index on an interval from low to high (0-1).\"\n",
    "    if \"vdem_v2xdd_dd\" in df_new: header = \"Direct popular vote index on an interval from low to high (0-1).\"\n",
    "    if \"vdem_v2xdl_delib\" in df_new: header = \"Deliberative component index on an interval from low to high (0-1).\"\n",
    "    if \"vdem_v2xeg_eqdr\" in df_new: header = \"Equal distribution of resources index on an interval from low to high (0-1).\"\n",
    "    if \"vdem_v2xeg_eqprotec\" in df_new: header = \"Equal protection index on an interval from low to high (0-1).\"\n",
    "    if \"vdem_v2xel_frefair\" in df_new: header = \"Clean elections index on an interval from low to high (0-1).\"\n",
    "    if \"vdem_v2xel_regelec\" in df_new: header = \"Regional government index on an interval from low to high (0-1).\"\n",
    "    if \"vdem_v2xme_altinf\" in df_new: header = \"Regional government index on an interval from low to high (0-1).\"\n",
    "    if \"vdem_v2xnp_client\" in df_new: header = \"Clientelism Index on an interval from low to high (0-1).\"\n",
    "    if \"vdem_v2xnp_regcorr\" in df_new: header = \"Regime corruption Index on an interval from low to high (0-1).\"\n",
    "    if \"vdem_v2xpe_exlecon\" in df_new: header = \"Exclusion by Socio-Economic Group Index on an interval from low to high (0-1).\"\n",
    "    if \"vdem_v2xpe_exlpol\" in df_new: header = \"Exclusion by Political Group index on an interval from low to high (0-1).\" \n",
    "    if \"vdem_v2xpe_exlgeo\" in df_new: header = \"Exclusion by Urban-Rural Location index on an interval from low to high (0-1).\" \n",
    "    if \"vdem_v2xpe_exlgender\" in df_new: header = \"Exclusion by Gender index on an interval from low to high (0-1).\"\n",
    "    if \"vdem_v2xpe_exlsocgr\" in df_new: header = \"Exclusion by Social Group index on an interval from low to high (0-1).\"\n",
    "    if \"vdem_v2xps_party\" in df_new: header = \"Party institutionalization index on an interval from low to high (0-1).\"\n",
    "    if \"vdem_v2xcs_ccsi\" in df_new: header = \"Core civil society index on an interval from low to high (0-1).\" \n",
    "    if \"vdem_v2xnp_pres\" in df_new: header = \"Presidentialism Index on an interval from low to high (0-1).\" \n",
    "    if \"vdem_v2xeg_eqaccess\" in df_new: header = \"Presidentialism Index on an interval from low to high (0-1).\" \n",
    "    if \"vdem_v2x_diagacc\" in df_new: header = \"Diagonal accountability index on an interval from low to high (0-1).\"\n",
    "    if \"vdem_v2clrgunev\" in df_new: header = \"Does government respect for civil liberties vary across different areas of the country? 0: Yes, 1: Somewhat, 2: no.\" \n",
    "    if \"agr_withdrawal_pct\" in df_new: header = \"Agricultural water withdrawal as percentage of total renewable water resources\"\n",
    "    if \"dam_cap_pcap\" in df_new: header = \"Total dam storage capacity per capita [m3/inhab]\"\n",
    "    if \"groundwater_export\" in df_new: header = \"Average annual quantity of groundwater leaving the country (total) 10^9 m3/year\" \n",
    "    if \"fresh_withdrawal_pct\" in df_new: header = \"Freshwater withdrawal as percentage of total renewable water resources\"\n",
    "    if \"ind_efficiency\" in df_new: header = \"Industrial Water Use Efficiency in US dollars/m3\"\n",
    "    if \"irr_agr_efficiency\" in df_new: header = \"Irrigated Agriculture Water Use Efficiency in US dollars/m3\"\n",
    "    if \"services_efficiency\" in df_new: header = \"Services Water Use Efficiency in US dollars/m3\"\n",
    "    if \"general_efficiency\" in df_new: header = \"Water Use Efficiency in US dollars/m3\"\n",
    "    if \"water_stress\" in df_new: header = \"Freshwater withdrawal as a proportion of available freshwater resources, Water Stress\"\n",
    "    if \"renewable_internal_pcap\" in df_new: header = \"Total internal renewable water resources per capita m3/inhab/yr\"\n",
    "    if \"renewable_pcap\" in df_new: header = \"Total annual renewable water resources per capita m3/inhab/year\"    \n",
    "    return header"
   ]
  },
  {
   "cell_type": "code",
   "execution_count": null,
   "id": "589f3a43",
   "metadata": {},
   "outputs": [],
   "source": [
    "df_new['short_description'] = df_new['variable_name'].apply(give_me_shortdescription)\n",
    "print(df_new)"
   ]
  },
  {
   "cell_type": "code",
   "execution_count": null,
   "id": "dc32ad9f",
   "metadata": {
    "scrolled": true
   },
   "outputs": [],
   "source": [
    "df_new"
   ]
  },
  {
   "cell_type": "code",
   "execution_count": null,
   "id": "92d92e1c",
   "metadata": {},
   "outputs": [],
   "source": [
    "print(df_new.to_markdown())\n",
    "\n",
    "#Copy paste this markdown table into a new notebook, switch to markdown language and run one cell with the pasted table. \n",
    "#Then click file and download the entire notebook as LaTex - you can then use this LaTex code to produce a nice PDF in overleaf"
   ]
  },
  {
   "cell_type": "code",
   "execution_count": null,
   "id": "4157a579",
   "metadata": {},
   "outputs": [],
   "source": [
    "json_file = df_new.to_json(orient=\"index\")"
   ]
  },
  {
   "cell_type": "code",
   "execution_count": null,
   "id": "ab359996",
   "metadata": {
    "scrolled": false
   },
   "outputs": [],
   "source": [
    "json_file"
   ]
  },
  {
   "cell_type": "code",
   "execution_count": null,
   "id": "c4e8e83e",
   "metadata": {},
   "outputs": [],
   "source": [
    "df_new.to_json(desktop + f'/{codebook}.json')"
   ]
  }
 ],
 "metadata": {
  "kernelspec": {
   "display_name": "Python 3 (ipykernel)",
   "language": "python",
   "name": "python3"
  },
  "language_info": {
   "codemirror_mode": {
    "name": "ipython",
    "version": 3
   },
   "file_extension": ".py",
   "mimetype": "text/x-python",
   "name": "python",
   "nbconvert_exporter": "python",
   "pygments_lexer": "ipython3",
   "version": "3.10.9"
  }
 },
 "nbformat": 4,
 "nbformat_minor": 5
}
