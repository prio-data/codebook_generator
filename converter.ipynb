{
 "cells": [
  {
   "cell_type": "markdown",
   "id": "fb85d6b8",
   "metadata": {},
   "source": [
    "# Converter"
   ]
  },
  {
   "cell_type": "code",
   "execution_count": null,
   "id": "310332fc",
   "metadata": {},
   "outputs": [],
   "source": [
    "import pandas as pd\n",
    "import json\n",
    "import os\n",
    "from converter import md2df, df2json\n",
    "home = os.path.expanduser(\"~\")\n",
    "\n",
    "print('OS path is set to:', home)"
   ]
  },
  {
   "cell_type": "markdown",
   "id": "edd7b4b3",
   "metadata": {},
   "source": [
    "# md2df\n",
    "\n",
    "The 'md2df' function takes the markdown codebook and converts it into a DataFrame. After parsing through the headings and subheadings, the function poulates this information into a Pandas DF.\n",
    "\n",
    "**Example**: \n",
    "    \n",
    "    df = md2df('filename.md')"
   ]
  },
  {
   "cell_type": "code",
   "execution_count": null,
   "id": "8a3b7cc2",
   "metadata": {},
   "outputs": [],
   "source": [
    "df = md2df('cm_features_codebook.md')"
   ]
  },
  {
   "cell_type": "code",
   "execution_count": null,
   "id": "1d42dbe8",
   "metadata": {
    "scrolled": false
   },
   "outputs": [],
   "source": [
    "df.head(5)"
   ]
  },
  {
   "cell_type": "markdown",
   "id": "9d3a4178",
   "metadata": {},
   "source": [
    "# Convert the DF to a Json File"
   ]
  },
  {
   "cell_type": "code",
   "execution_count": null,
   "id": "ffa703a1",
   "metadata": {},
   "outputs": [],
   "source": [
    "json_file = df.to_json(orient=\"index\")"
   ]
  },
  {
   "cell_type": "code",
   "execution_count": null,
   "id": "f33299bc",
   "metadata": {},
   "outputs": [],
   "source": [
    "json_file"
   ]
  },
  {
   "cell_type": "markdown",
   "id": "9bf33743",
   "metadata": {},
   "source": [
    "# Save the Json File"
   ]
  },
  {
   "cell_type": "markdown",
   "id": "90ebd899",
   "metadata": {},
   "source": [
    "# df2json\n",
    "\n",
    "The 'df2json' function takes the json file, names it the user defined 'file_name' and and saves to the user defined 'file_path'\n",
    "\n",
    "**Example**: \n",
    "    \n",
    "    df2json(df, file_name= 'file name.json', save_path='desired file save path')\n"
   ]
  },
  {
   "cell_type": "code",
   "execution_count": null,
   "id": "ed6f3972",
   "metadata": {},
   "outputs": [],
   "source": [
    "df2json(df, file_name= 'cm_features_codebook.json', save_path='/Users/chandlerwilliams/Desktop/VIEWS_new/codebook/')"
   ]
  },
  {
   "cell_type": "markdown",
   "id": "d16d9b27",
   "metadata": {},
   "source": [
    "# Test to make sure the Json file loads back to a DataFrame properly"
   ]
  },
  {
   "cell_type": "code",
   "execution_count": null,
   "id": "47894b5e",
   "metadata": {},
   "outputs": [],
   "source": [
    "df2 = pd.read_json('cm_features_codebook.json', orient='index')"
   ]
  },
  {
   "cell_type": "code",
   "execution_count": null,
   "id": "e12bc6b9",
   "metadata": {},
   "outputs": [],
   "source": [
    "df2"
   ]
  },
  {
   "cell_type": "markdown",
   "id": "51f133af",
   "metadata": {},
   "source": [
    "# Converting the DataFrame back to a markdown table\n",
    "\n",
    "    We've gone full circle now. "
   ]
  },
  {
   "cell_type": "code",
   "execution_count": null,
   "id": "dff30291",
   "metadata": {},
   "outputs": [],
   "source": [
    "print(df.to_markdown())"
   ]
  }
 ],
 "metadata": {
  "kernelspec": {
   "display_name": "Python 3 (ipykernel)",
   "language": "python",
   "name": "python3"
  },
  "language_info": {
   "codemirror_mode": {
    "name": "ipython",
    "version": 3
   },
   "file_extension": ".py",
   "mimetype": "text/x-python",
   "name": "python",
   "nbconvert_exporter": "python",
   "pygments_lexer": "ipython3",
   "version": "3.9.13"
  }
 },
 "nbformat": 4,
 "nbformat_minor": 5
}
